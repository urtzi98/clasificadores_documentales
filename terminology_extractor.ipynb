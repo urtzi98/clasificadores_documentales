{
 "cells": [
  {
   "cell_type": "code",
   "execution_count": 1,
   "metadata": {},
   "outputs": [],
   "source": [
    "import nltk\n",
    "import os\n",
    "from summarizer import Summarizer"
   ]
  },
  {
   "cell_type": "code",
   "execution_count": 2,
   "metadata": {},
   "outputs": [],
   "source": [
    "def get_input(path, glosary_documents):\n",
    "    total_docs = []\n",
    "    for document in glosary_documents:\n",
    "        with open(path + document) as file:\n",
    "            content = file.readlines()\n",
    "        content = [c.replace('\\n', '') for c in content if c != '\\n']\n",
    "        content = ' '.join(content)\n",
    "        total_docs.append(content)\n",
    "    total_docs = ' '.join(total_docs)\n",
    "    return total_docs"
   ]
  },
  {
   "cell_type": "code",
   "execution_count": 3,
   "metadata": {},
   "outputs": [],
   "source": [
    "def get_data_glosary(path):\n",
    "    glosary_documents = os.listdir(path)[:15]\n",
    "    test_documents = os.listdir(path)[15:]\n",
    "    data_glosary = get_input(path, glosary_documents)\n",
    "    data_glosary = \" \".join(data_glosary.replace(\"\\n\", \" \").split())\n",
    "    return data_glosary"
   ]
  },
  {
   "cell_type": "code",
   "execution_count": 13,
   "metadata": {},
   "outputs": [],
   "source": [
    "path_salud = './data/salud/'\n",
    "path_economia = './data/economia/'\n",
    "path_deportes = './data/deportes/'\n",
    "# Cambiar el path para cada tema\n",
    "data_glosary = get_data_glosary(path_salud)"
   ]
  },
  {
   "cell_type": "code",
   "execution_count": 14,
   "metadata": {},
   "outputs": [],
   "source": [
    "summarizer = Summarizer()\n",
    "topKeywords = summarizer.summarize(data_glosary)\n",
    "#print('topKeywords:')\n",
    "#print(topKeywords)"
   ]
  },
  {
   "cell_type": "code",
   "execution_count": 15,
   "metadata": {},
   "outputs": [
    {
     "name": "stdout",
     "output_type": "stream",
     "text": [
      "puede\n",
      "si\n",
      "dieta\n",
      "efecto\n",
      "pueden\n",
      "ser\n",
      "vida\n",
      "células\n",
      "personas\n",
      "síntomas\n",
      "riesgo\n",
      "salud\n",
      "oxígeno\n",
      "menos\n",
      "cerebro\n",
      "consumo\n",
      "animal\n",
      "tener\n",
      "aunque\n",
      "dolor\n",
      "mayor\n",
      "tipo\n",
      "sangre\n",
      "aire\n",
      "además\n",
      "años\n",
      "según\n",
      "actividad\n",
      "productos\n",
      "explica\n",
      "grasa\n",
      "así\n",
      "mejor\n",
      "nerviosas\n",
      "efectos\n",
      "sustancias\n",
      "cuerpo\n",
      "sistema\n",
      "hace\n",
      "animales\n",
      "placebo\n",
      "embargo\n",
      "tratamiento\n",
      "uso\n",
      "café\n",
      "solo\n",
      "bebés\n",
      "alimentos\n",
      "técnica\n",
      "ventilación\n",
      "peso\n",
      "caso\n",
      "evitar\n",
      "vegana\n",
      "importante\n",
      "día\n",
      "debe\n",
      "coágulos\n",
      "sueño\n",
      "hecho\n"
     ]
    }
   ],
   "source": [
    "for r in topKeywords:\n",
    "    print(r['word'])"
   ]
  },
  {
   "cell_type": "code",
   "execution_count": null,
   "metadata": {},
   "outputs": [],
   "source": []
  }
 ],
 "metadata": {
  "kernelspec": {
   "display_name": "Python 3",
   "language": "python",
   "name": "python3"
  },
  "language_info": {
   "codemirror_mode": {
    "name": "ipython",
    "version": 3
   },
   "file_extension": ".py",
   "mimetype": "text/x-python",
   "name": "python",
   "nbconvert_exporter": "python",
   "pygments_lexer": "ipython3",
   "version": "3.6.9"
  }
 },
 "nbformat": 4,
 "nbformat_minor": 2
}
