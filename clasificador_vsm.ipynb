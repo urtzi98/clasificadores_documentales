{
 "cells": [
  {
   "cell_type": "markdown",
   "metadata": {},
   "source": [
    "# Clasificador documental VSM"
   ]
  },
  {
   "cell_type": "code",
   "execution_count": 1,
   "metadata": {},
   "outputs": [],
   "source": [
    "import os\n",
    "import json\n",
    "import nltk\n",
    "import numpy as np\n",
    "import pandas as pd\n",
    "from nltk.corpus import stopwords\n",
    "from nltk.tokenize import wordpunct_tokenize\n",
    "from sklearn.feature_extraction.text import TfidfVectorizer\n",
    "from sklearn.metrics import classification_report"
   ]
  },
  {
   "cell_type": "markdown",
   "metadata": {},
   "source": [
    "## Cargamos los glosarios para poder utilizarlos en los tres temas\n",
    "Definimos aquí las funciones necesarias para preprocesar los documentos y calcular la similitud del coseno."
   ]
  },
  {
   "cell_type": "code",
   "execution_count": 2,
   "metadata": {},
   "outputs": [],
   "source": [
    "def preprocess_document(doc):\n",
    "    stopset = set(stopwords.words('spanish'))\n",
    "    tokens = wordpunct_tokenize(doc) # tokenizar palabras\n",
    "    clean = [token.lower() for token in tokens if token.lower() not in stopset and len(token) > 2 and not token.isnumeric()]\n",
    "    return clean"
   ]
  },
  {
   "cell_type": "code",
   "execution_count": 3,
   "metadata": {},
   "outputs": [],
   "source": [
    "def get_input(path, glosary_documents):\n",
    "    total_docs = []\n",
    "    for document in glosary_documents:\n",
    "        with open(path + document) as file:\n",
    "            content = file.readlines()\n",
    "        content = [c.replace('\\n', '') for c in content if c != '\\n']\n",
    "        content = ' '.join(content)\n",
    "        total_docs.append(content)\n",
    "        docs = [preprocess_document(d) for d in total_docs]\n",
    "        processed_docs = []\n",
    "        for doc in docs:\n",
    "            processed_docs.append(' '.join(doc))\n",
    "    return processed_docs"
   ]
  },
  {
   "cell_type": "code",
   "execution_count": 4,
   "metadata": {},
   "outputs": [],
   "source": [
    "def get_similar_articles(q, df, vectorizer, test_documents):\n",
    "    # Funcion que hace la similitud del coseno entre los documentos y el glosario\n",
    "    q = [q]\n",
    "    q_vec = vectorizer.transform(q).toarray().reshape(df.shape[0],)\n",
    "    sim = {}\n",
    "    for i in range(df.shape[1]):\n",
    "        sim[i] = np.dot(df.loc[:, i].values, q_vec) / np.linalg.norm(df.loc[:, i]) * np.linalg.norm(q_vec)\n",
    "    #sim_sorted = sorted(sim.items(), key=lambda x: x[1], reverse=True)\n",
    "    scores = []\n",
    "    for k, v in sim.items():\n",
    "        #print(\"[ Score = \" + \"%.3f\" % round(v,3) + \" ] \" + test_documents[k]);\n",
    "        scores.append(round(v,3))\n",
    "    return scores"
   ]
  },
  {
   "cell_type": "code",
   "execution_count": 5,
   "metadata": {},
   "outputs": [],
   "source": [
    "with open('./glosario/glosarios.json', 'r') as fp:\n",
    "    data = json.load(fp)\n",
    "query_salud = ' '.join(data['salud'])\n",
    "query_economia = ' '.join(data['economia'])\n",
    "query_deportes = ' '.join(data['deportes'])"
   ]
  },
  {
   "cell_type": "markdown",
   "metadata": {},
   "source": [
    "# VSM para el tema salud"
   ]
  },
  {
   "cell_type": "code",
   "execution_count": 7,
   "metadata": {},
   "outputs": [],
   "source": [
    "path_salud = './data/salud/'\n",
    "#glosary_documents = os.listdir(path_salud)[:15]\n",
    "test_documents = os.listdir(path_salud)[15:]"
   ]
  },
  {
   "cell_type": "code",
   "execution_count": 8,
   "metadata": {},
   "outputs": [],
   "source": [
    "processed_docs = get_input(path_salud, test_documents)\n",
    "vectorizer = TfidfVectorizer()\n",
    "X = vectorizer.fit_transform(processed_docs)\n",
    "X = X.T.toarray()\n",
    "df_salud = pd.DataFrame(X, index=vectorizer.get_feature_names())"
   ]
  },
  {
   "cell_type": "code",
   "execution_count": 9,
   "metadata": {},
   "outputs": [],
   "source": [
    "scores_query_salud = get_similar_articles(query_salud, df_salud, vectorizer, test_documents)\n",
    "scores_query_economia = get_similar_articles(query_economia, df_salud, vectorizer, test_documents)\n",
    "scores_query_deportes = get_similar_articles(query_deportes, df_salud, vectorizer, test_documents)"
   ]
  },
  {
   "cell_type": "code",
   "execution_count": 10,
   "metadata": {},
   "outputs": [],
   "source": [
    "y_pred = []\n",
    "for i in range(len(scores_query_salud)):\n",
    "    argument_max = np.argmax([scores_query_salud[i],scores_query_economia[i],scores_query_deportes[i]])\n",
    "    if argument_max == 0:\n",
    "        y_pred.append('salud')\n",
    "    elif argument_max == 1:\n",
    "        y_pred.append('economia')\n",
    "    elif argument_max == 2:\n",
    "        y_pred.append('deportes')\n",
    "y = []\n",
    "for i in range(len(scores_query_salud)):\n",
    "    y.append('salud')"
   ]
  },
  {
   "cell_type": "code",
   "execution_count": 11,
   "metadata": {},
   "outputs": [
    {
     "name": "stdout",
     "output_type": "stream",
     "text": [
      "              precision    recall  f1-score   support\n",
      "\n",
      "    economia       0.00      0.00      0.00         0\n",
      "       salud       1.00      0.93      0.97        15\n",
      "\n",
      "    accuracy                           0.93        15\n",
      "   macro avg       0.50      0.47      0.48        15\n",
      "weighted avg       1.00      0.93      0.97        15\n",
      "\n"
     ]
    },
    {
     "name": "stderr",
     "output_type": "stream",
     "text": [
      "/home/veridas/.local/lib/python3.6/site-packages/sklearn/metrics/_classification.py:1221: UndefinedMetricWarning: Recall and F-score are ill-defined and being set to 0.0 in labels with no true samples. Use `zero_division` parameter to control this behavior.\n",
      "  _warn_prf(average, modifier, msg_start, len(result))\n"
     ]
    }
   ],
   "source": [
    "print(classification_report(y,y_pred))"
   ]
  },
  {
   "cell_type": "markdown",
   "metadata": {},
   "source": [
    "# VSM para el tema economía"
   ]
  },
  {
   "cell_type": "code",
   "execution_count": 12,
   "metadata": {},
   "outputs": [],
   "source": [
    "path_economia = './data/economia/'\n",
    "#glosary_documents = os.listdir(path_salud)[:15]\n",
    "test_documents = os.listdir(path_economia)[15:]"
   ]
  },
  {
   "cell_type": "code",
   "execution_count": 13,
   "metadata": {},
   "outputs": [],
   "source": [
    "processed_docs = get_input(path_economia, test_documents)\n",
    "vectorizer = TfidfVectorizer()\n",
    "X = vectorizer.fit_transform(processed_docs)\n",
    "X = X.T.toarray()\n",
    "df_economia = pd.DataFrame(X, index=vectorizer.get_feature_names())"
   ]
  },
  {
   "cell_type": "code",
   "execution_count": 14,
   "metadata": {},
   "outputs": [],
   "source": [
    "scores_query_salud = get_similar_articles(query_salud, df_economia, vectorizer, test_documents)\n",
    "scores_query_economia = get_similar_articles(query_economia, df_economia, vectorizer, test_documents)\n",
    "scores_query_deportes = get_similar_articles(query_deportes, df_economia, vectorizer, test_documents)"
   ]
  },
  {
   "cell_type": "code",
   "execution_count": 15,
   "metadata": {},
   "outputs": [],
   "source": [
    "y_pred = []\n",
    "for i in range(len(scores_query_economia)):\n",
    "    argument_max = np.argmax([scores_query_salud[i],scores_query_economia[i],scores_query_deportes[i]])\n",
    "    if argument_max == 0:\n",
    "        y_pred.append('salud')\n",
    "    elif argument_max == 1:\n",
    "        y_pred.append('economia')\n",
    "    elif argument_max == 2:\n",
    "        y_pred.append('deportes')\n",
    "y = []\n",
    "for i in range(len(scores_query_economia)):\n",
    "    y.append('economia')"
   ]
  },
  {
   "cell_type": "code",
   "execution_count": 16,
   "metadata": {},
   "outputs": [
    {
     "name": "stdout",
     "output_type": "stream",
     "text": [
      "              precision    recall  f1-score   support\n",
      "\n",
      "    deportes       0.00      0.00      0.00         0\n",
      "    economia       1.00      0.87      0.93        15\n",
      "       salud       0.00      0.00      0.00         0\n",
      "\n",
      "    accuracy                           0.87        15\n",
      "   macro avg       0.33      0.29      0.31        15\n",
      "weighted avg       1.00      0.87      0.93        15\n",
      "\n"
     ]
    },
    {
     "name": "stderr",
     "output_type": "stream",
     "text": [
      "/home/veridas/.local/lib/python3.6/site-packages/sklearn/metrics/_classification.py:1221: UndefinedMetricWarning: Recall and F-score are ill-defined and being set to 0.0 in labels with no true samples. Use `zero_division` parameter to control this behavior.\n",
      "  _warn_prf(average, modifier, msg_start, len(result))\n"
     ]
    }
   ],
   "source": [
    "print(classification_report(y,y_pred))"
   ]
  },
  {
   "cell_type": "markdown",
   "metadata": {},
   "source": [
    "# VSM para el tema deportes"
   ]
  },
  {
   "cell_type": "code",
   "execution_count": 17,
   "metadata": {},
   "outputs": [],
   "source": [
    "path_deportes = './data/deportes/'\n",
    "#glosary_documents = os.listdir(path_salud)[:15]\n",
    "test_documents = os.listdir(path_deportes)[15:]"
   ]
  },
  {
   "cell_type": "code",
   "execution_count": 18,
   "metadata": {},
   "outputs": [],
   "source": [
    "processed_docs = get_input(path_deportes, test_documents)\n",
    "vectorizer = TfidfVectorizer()\n",
    "X = vectorizer.fit_transform(processed_docs)\n",
    "X = X.T.toarray()\n",
    "df_deportes = pd.DataFrame(X, index=vectorizer.get_feature_names())"
   ]
  },
  {
   "cell_type": "code",
   "execution_count": 19,
   "metadata": {},
   "outputs": [],
   "source": [
    "scores_query_salud = get_similar_articles(query_salud, df_deportes, vectorizer, test_documents)\n",
    "scores_query_economia = get_similar_articles(query_economia, df_deportes, vectorizer, test_documents)\n",
    "scores_query_deportes = get_similar_articles(query_deportes, df_deportes, vectorizer, test_documents)"
   ]
  },
  {
   "cell_type": "code",
   "execution_count": 20,
   "metadata": {},
   "outputs": [],
   "source": [
    "y_pred = []\n",
    "for i in range(len(scores_query_salud)):\n",
    "    argument_max = np.argmax([scores_query_salud[i],scores_query_economia[i],scores_query_deportes[i]])\n",
    "    if argument_max == 0:\n",
    "        y_pred.append('salud')\n",
    "    elif argument_max == 1:\n",
    "        y_pred.append('economia')\n",
    "    elif argument_max == 2:\n",
    "        y_pred.append('deportes')\n",
    "y = []\n",
    "for i in range(len(scores_query_salud)):\n",
    "    y.append('deportes')"
   ]
  },
  {
   "cell_type": "code",
   "execution_count": 21,
   "metadata": {},
   "outputs": [
    {
     "name": "stdout",
     "output_type": "stream",
     "text": [
      "              precision    recall  f1-score   support\n",
      "\n",
      "    deportes       1.00      1.00      1.00        15\n",
      "\n",
      "    accuracy                           1.00        15\n",
      "   macro avg       1.00      1.00      1.00        15\n",
      "weighted avg       1.00      1.00      1.00        15\n",
      "\n"
     ]
    }
   ],
   "source": [
    "print(classification_report(y,y_pred))"
   ]
  },
  {
   "cell_type": "code",
   "execution_count": null,
   "metadata": {},
   "outputs": [],
   "source": []
  }
 ],
 "metadata": {
  "kernelspec": {
   "display_name": "Python 3",
   "language": "python",
   "name": "python3"
  },
  "language_info": {
   "codemirror_mode": {
    "name": "ipython",
    "version": 3
   },
   "file_extension": ".py",
   "mimetype": "text/x-python",
   "name": "python",
   "nbconvert_exporter": "python",
   "pygments_lexer": "ipython3",
   "version": "3.6.9"
  }
 },
 "nbformat": 4,
 "nbformat_minor": 2
}
