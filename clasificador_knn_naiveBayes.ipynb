{
 "cells": [
  {
   "cell_type": "markdown",
   "metadata": {},
   "source": [
    "# Obtención de todos los textos de los tres temas\n",
    "Para estos clasificadores no hace falta usar glosario ya que vamos a entrenar los modelos empleando los documentos escogidos para construir el glosario y se va a testear utilizando los documentos escogidos para test. A continuación se cargan, preprocesan dichos documentos y se guardan en una lista única. Habrá una lista para entrenamiento y otra lista para testeo. Además, hay que crear la clasificación real de los documentos en el orden correspondiente."
   ]
  },
  {
   "cell_type": "code",
   "execution_count": 1,
   "metadata": {},
   "outputs": [],
   "source": [
    "import os\n",
    "import json\n",
    "import nltk\n",
    "import numpy as np\n",
    "import pandas as pd\n",
    "from nltk.corpus import stopwords\n",
    "from nltk.tokenize import wordpunct_tokenize\n",
    "from sklearn.feature_extraction.text import TfidfVectorizer\n",
    "from sklearn.metrics import classification_report\n",
    "from sklearn.neighbors import KNeighborsClassifier\n",
    "from sklearn.naive_bayes import GaussianNB"
   ]
  },
  {
   "cell_type": "code",
   "execution_count": 2,
   "metadata": {},
   "outputs": [],
   "source": [
    "def preprocess_document(doc):\n",
    "    stopset = set(stopwords.words('spanish'))\n",
    "    tokens = wordpunct_tokenize(doc) # tokenizar palabras\n",
    "    clean = [token.lower() for token in tokens if token.lower() not in stopset and len(token) > 2 and not token.isnumeric()]\n",
    "    return clean"
   ]
  },
  {
   "cell_type": "code",
   "execution_count": 3,
   "metadata": {},
   "outputs": [],
   "source": [
    "def get_input(path, glosary_documents):\n",
    "    total_docs = []\n",
    "    for document in glosary_documents:\n",
    "        with open(path + document) as file:\n",
    "            content = file.readlines()\n",
    "        content = [c.replace('\\n', '') for c in content if c != '\\n']\n",
    "        content = ' '.join(content)\n",
    "        total_docs.append(content)\n",
    "        docs = [preprocess_document(d) for d in total_docs]\n",
    "        processed_docs = []\n",
    "        for doc in docs:\n",
    "            processed_docs.append(' '.join(doc))\n",
    "    return processed_docs"
   ]
  },
  {
   "cell_type": "code",
   "execution_count": 4,
   "metadata": {},
   "outputs": [],
   "source": [
    "path_salud = './data/salud/'\n",
    "path_economia = './data/economia/'\n",
    "path_deportes = './data/deportes/'"
   ]
  },
  {
   "cell_type": "code",
   "execution_count": 5,
   "metadata": {},
   "outputs": [],
   "source": [
    "train_documents_salud = os.listdir(path_salud)[:15]\n",
    "train_documents_economia = os.listdir(path_economia)[:15]\n",
    "train_documents_deportes = os.listdir(path_deportes)[:15]\n",
    "processed_train_salud = get_input(path_salud, train_documents_salud)\n",
    "processed_train_economia = get_input(path_economia, train_documents_economia)\n",
    "processed_train_deportes = get_input(path_deportes, train_documents_deportes)\n",
    "docs_train = processed_train_salud + processed_train_economia + processed_train_deportes"
   ]
  },
  {
   "cell_type": "code",
   "execution_count": 6,
   "metadata": {},
   "outputs": [],
   "source": [
    "test_documents_salud = os.listdir(path_salud)[15:]\n",
    "test_documents_economia = os.listdir(path_economia)[15:]\n",
    "test_documents_deportes = os.listdir(path_deportes)[15:]\n",
    "processed_docs_salud = get_input(path_salud, test_documents_salud)\n",
    "processed_docs_economia = get_input(path_economia, test_documents_economia)\n",
    "processed_docs_deportes = get_input(path_deportes, test_documents_deportes)\n",
    "docs_test = processed_docs_salud + processed_docs_economia + processed_docs_deportes"
   ]
  },
  {
   "cell_type": "code",
   "execution_count": 10,
   "metadata": {},
   "outputs": [],
   "source": [
    "y_salud = ['salud'] * 15\n",
    "y_economia = ['economia'] * 15\n",
    "y_deportes = ['deportes'] * 15\n",
    "y = y_salud + y_economia + y_deportes"
   ]
  },
  {
   "cell_type": "code",
   "execution_count": 11,
   "metadata": {},
   "outputs": [],
   "source": [
    "vectorizer = TfidfVectorizer()\n",
    "vectorizer.fit(docs_train)\n",
    "train_X_tfidf = vectorizer.transform(docs_train)\n",
    "test_X_tfidf = vectorizer.transform(docs_test)"
   ]
  },
  {
   "cell_type": "markdown",
   "metadata": {},
   "source": [
    "# Clasificador KNN para todos los temas"
   ]
  },
  {
   "cell_type": "code",
   "execution_count": 12,
   "metadata": {},
   "outputs": [],
   "source": [
    "neigh = KNeighborsClassifier(n_neighbors=3)\n",
    "neigh.fit(train_X_tfidf, y)\n",
    "y_pred = neigh.predict(test_X_tfidf)"
   ]
  },
  {
   "cell_type": "code",
   "execution_count": 14,
   "metadata": {},
   "outputs": [
    {
     "name": "stdout",
     "output_type": "stream",
     "text": [
      "              precision    recall  f1-score   support\n",
      "\n",
      "    deportes       1.00      1.00      1.00        15\n",
      "    economia       0.88      0.93      0.90        15\n",
      "       salud       0.93      0.87      0.90        15\n",
      "\n",
      "    accuracy                           0.93        45\n",
      "   macro avg       0.93      0.93      0.93        45\n",
      "weighted avg       0.93      0.93      0.93        45\n",
      "\n"
     ]
    }
   ],
   "source": [
    "print(classification_report(y,y_pred))"
   ]
  },
  {
   "cell_type": "markdown",
   "metadata": {},
   "source": [
    "# Clasificador Naive Bayes para todos los temas"
   ]
  },
  {
   "cell_type": "code",
   "execution_count": 18,
   "metadata": {},
   "outputs": [],
   "source": [
    "gnb = GaussianNB()\n",
    "gnb.fit(train_X_tfidf.toarray(), y)\n",
    "y_pred = gnb.predict(test_X_tfidf.toarray())"
   ]
  },
  {
   "cell_type": "code",
   "execution_count": 19,
   "metadata": {},
   "outputs": [
    {
     "name": "stdout",
     "output_type": "stream",
     "text": [
      "              precision    recall  f1-score   support\n",
      "\n",
      "    deportes       1.00      1.00      1.00        15\n",
      "    economia       0.94      1.00      0.97        15\n",
      "       salud       1.00      0.93      0.97        15\n",
      "\n",
      "    accuracy                           0.98        45\n",
      "   macro avg       0.98      0.98      0.98        45\n",
      "weighted avg       0.98      0.98      0.98        45\n",
      "\n"
     ]
    }
   ],
   "source": [
    "print(classification_report(y,y_pred))"
   ]
  },
  {
   "cell_type": "code",
   "execution_count": null,
   "metadata": {},
   "outputs": [],
   "source": []
  }
 ],
 "metadata": {
  "kernelspec": {
   "display_name": "Python 3",
   "language": "python",
   "name": "python3"
  },
  "language_info": {
   "codemirror_mode": {
    "name": "ipython",
    "version": 3
   },
   "file_extension": ".py",
   "mimetype": "text/x-python",
   "name": "python",
   "nbconvert_exporter": "python",
   "pygments_lexer": "ipython3",
   "version": "3.6.9"
  }
 },
 "nbformat": 4,
 "nbformat_minor": 2
}
